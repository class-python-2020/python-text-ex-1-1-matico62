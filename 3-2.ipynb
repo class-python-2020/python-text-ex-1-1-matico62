{
 "metadata": {
  "language_info": {
   "codemirror_mode": {
    "name": "ipython",
    "version": 3
   },
   "file_extension": ".py",
   "mimetype": "text/x-python",
   "name": "python",
   "nbconvert_exporter": "python",
   "pygments_lexer": "ipython3",
   "version": 3
  },
  "orig_nbformat": 2
 },
 "nbformat": 4,
 "nbformat_minor": 2,
 "cells": [
  {
   "cell_type": "code",
   "execution_count": null,
   "metadata": {},
   "outputs": [],
   "source": [
    "if 条件式:\n",
    "    条件式が真だった場合の処理\n",
    "else:\n",
    "    条件式が偽だった場合の処理\n",
    "\n",
    "if a >= 10:\n",
    "    print('OK')\n",
    "else:\n",
    "    print('NG')"
   ]
  },
  {
   "cell_type": "code",
   "execution_count": null,
   "metadata": {},
   "outputs": [],
   "source": [
    "if　条件式1:\n",
    "    条件式1が真だった場合の処理\n",
    "elif 条件式2：\n",
    "    条件式2が真だった場合の処理\n",
    "else:\n",
    "    いずれの条件式も偽だった場合の処理"
   ]
  },
  {
   "cell_type": "code",
   "execution_count": null,
   "metadata": {},
   "outputs": [],
   "source": [
    "a = 30\n",
    "if a % 15 == 0:\n",
    "    print('fifteen')\n",
    "elif a % 3 == 0:\n",
    "    print('three')\n",
    "elif a % 5 == 0:\n",
    "    print('five')\n",
    "else:\n",
    "    pass\n"
   ]
  },
  {
   "cell_type": "code",
   "execution_count": null,
   "metadata": {},
   "outputs": [],
   "source": [
    "if a % 15 == 0:\n",
    "    print('fifteen')\n",
    "elif a % 3 == 0:\n",
    "    print('three')\n",
    "elif a % 5 == 0:\n",
    "    print('five')"
   ]
  },
  {
   "cell_type": "code",
   "execution_count": null,
   "metadata": {},
   "outputs": [],
   "source": [
    "a,b = 10,20\n",
    "if a > 10 and b > 10:\n",
    "    print('OK')\n",
    "else:\n",
    "    print('NG')"
   ]
  },
  {
   "cell_type": "code",
   "execution_count": null,
   "metadata": {},
   "outputs": [],
   "source": [
    "a,b = 20,10\n",
    "if a > 10 or b > 10:\n",
    "    print('OK')\n",
    "else:\n",
    "    print('NG')"
   ]
  },
  {
   "cell_type": "code",
   "execution_count": null,
   "metadata": {},
   "outputs": [],
   "source": [
    "a = 10\n",
    "if a > 10:\n",
    "    a /= 2\n",
    "else:\n",
    "    a += 1\n",
    "print(a)"
   ]
  },
  {
   "cell_type": "code",
   "execution_count": null,
   "metadata": {},
   "outputs": [],
   "source": [
    "if a >= 100:\n",
    "    a *= 2\n",
    "elif a >= 50:\n",
    "    a /= 2\n",
    "else:\n",
    "    a += 2"
   ]
  }
 ]
}